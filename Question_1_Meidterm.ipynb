{
  "nbformat": 4,
  "nbformat_minor": 0,
  "metadata": {
    "colab": {
      "provenance": []
    },
    "kernelspec": {
      "name": "python3",
      "display_name": "Python 3"
    },
    "language_info": {
      "name": "python"
    }
  },
  "cells": [
    {
      "cell_type": "code",
      "source": [
        "import json\n",
        "import matplotlib.pyplot as plt\n",
        "freq_dict={}\n",
        "\n",
        "with open('numbers.txt','r') as file:\n",
        "    for line in file:\n",
        "        nums=line.strip().split(',')\n",
        "        for num in nums:\n",
        "            num=int(num.strip())  \n",
        "            if num in freq_dict:\n",
        "                freq_dict[num]+=1 \n",
        "            else:\n",
        "                freq_dict[num]=1 \n",
        "for num, count in freq_dict.items():\n",
        "    print(num, ':', count)\n",
        "\n",
        "plt.hist(list(freq_dict.keys()), weights=list(freq_dict.values()), bins=len(freq_dict))\n",
        "plt.show()\n",
        "with open('freq_dict.json','w') as file:\n",
        "    json.dump(freq_dict,file)"
      ],
      "metadata": {
        "colab": {
          "base_uri": "https://localhost:8080/",
          "height": 626
        },
        "id": "Sys_pZjeABV7",
        "outputId": "6dac7f31-ec41-4192-aeaf-f898d2aeee3b"
      },
      "execution_count": null,
      "outputs": [
        {
          "output_type": "stream",
          "name": "stdout",
          "text": [
            "2 : 19\n",
            "4 : 22\n",
            "6 : 26\n",
            "8 : 13\n",
            "5 : 10\n",
            "1 : 14\n",
            "9 : 24\n",
            "0 : 9\n",
            "7 : 17\n",
            "3 : 20\n",
            "10 : 14\n"
          ]
        },
        {
          "output_type": "display_data",
          "data": {
            "text/plain": [
              "<Figure size 640x480 with 1 Axes>"
            ],
            "image/png": "[encoded data removed]"
          },
          "metadata": {}
        }
      ]
    }
  ]
}